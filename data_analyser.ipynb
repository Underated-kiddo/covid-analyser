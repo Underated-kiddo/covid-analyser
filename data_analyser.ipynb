{
 "cells": [
  {
   "cell_type": "code",
   "execution_count": null,
   "id": "28583ba7",
   "metadata": {},
   "outputs": [],
   "source": [
    "#  IMPORTS AND SETUP\n",
    "import pandas as pd\n",
    "import numpy as np\n",
    "import matplotlib.pyplot as plt\n",
    "import seaborn as sns\n",
    "import os\n",
    "\n",
    "# CONFIGURATIONS\n",
    "DATA_PATH = \"owid-covid-data.csv\"  # Update this if needed\n",
    "CHARTS_DIR = \"charts\"\n",
    "os.makedirs(CHARTS_DIR, exist_ok=True)\n"
   ]
  },
  {
   "cell_type": "code",
   "execution_count": null,
   "id": "3ee215f3",
   "metadata": {},
   "outputs": [],
   "source": [
    "# Load Data\n",
    "try:\n",
    "    df = pd.read_csv(DATA_PATH)\n",
    "    print(\"Data loaded successfully.\")\n",
    "except FileNotFoundError:\n",
    "    print(f\" File {DATA_PATH} not found. Make sure it's in the correct location.\")\n",
    "    exit()\n"
   ]
  },
  {
   "cell_type": "code",
   "execution_count": null,
   "id": "2d99a1ab",
   "metadata": {},
   "outputs": [],
   "source": [
    "#  Clean & Preprocess Data\n",
    "\n",
    "# Fill missing values\n",
    "df.fillna(0, inplace=True)\n",
    "\n",
    "# Convert 'date' to datetime\n",
    "if 'date' in df.columns:\n",
    "    df['date'] = pd.to_datetime(df['date'])\n",
    "\n",
    "#Exploration of the data\n",
    "print(\"\\n Data Overview:\")\n",
    "print(df.head())\n",
    "print(\"\\n Columns:\", df.columns.tolist())\n",
    "print(\"\\n Missing Values:\\n\", df.isnull().sum())\n",
    "print(\"\\nℹ Data Info:\")\n",
    "print(df.info())\n",
    "print(\"\\n Data Summary:\")\n",
    "print(df.describe())\n"
   ]
  },
  {
   "cell_type": "code",
   "execution_count": null,
   "id": "4a602d59",
   "metadata": {},
   "outputs": [],
   "source": [
    "# Analysis 1 Daily COVID-19 Cases Over Time\n",
    "\n",
    "if 'date' in df.columns and 'new_cases' in df.columns:\n",
    "    cases_by_date = df.groupby('date')['new_cases'].sum()\n",
    "    plt.figure(figsize=(10, 6))\n",
    "    cases_by_date.plot(title='Daily COVID-19 Cases')\n",
    "    plt.xlabel('Date')\n",
    "    plt.ylabel('New Cases')\n",
    "    plt.grid(True)\n",
    "    plt.tight_layout()\n",
    "    plt.savefig(f\"{CHARTS_DIR}/daily_cases.png\")\n",
    "    plt.show()\n"
   ]
  },
  {
   "cell_type": "code",
   "execution_count": null,
   "id": "63f522c5",
   "metadata": {},
   "outputs": [],
   "source": [
    "# Analysis 2 Top 10 Locations by Total Deaths\n",
    "if 'location' in df.columns and 'total_deaths' in df.columns:\n",
    "    deaths_by_location = df.groupby('location')['total_deaths'].max().sort_values(ascending=False).head(10)\n",
    "    plt.figure(figsize=(10, 6))\n",
    "    deaths_by_location.plot(kind='bar', color='red')\n",
    "    plt.title('Top 10 Locations by Total Deaths')\n",
    "    plt.ylabel('Total Deaths')\n",
    "    plt.xticks(rotation=45)\n",
    "    plt.tight_layout()\n",
    "    plt.savefig(f\"{CHARTS_DIR}/top10_deaths.png\")\n",
    "    plt.show()\n"
   ]
  },
  {
   "cell_type": "code",
   "execution_count": null,
   "id": "623a54d4",
   "metadata": {},
   "outputs": [],
   "source": [
    "# TOP COUNTRIES BY TOTAL CASES\n",
    "top_countries = df.groupby('location')['total_cases'].max().sort_values(ascending=False).head(10)\n",
    "plt.figure(figsize=(10,6))\n",
    "top_countries.plot(kind='bar', color='orange')\n",
    "plt.title('Top 10 Countries by Total COVID-19 Cases')\n",
    "plt.ylabel('Total Cases')\n",
    "plt.xticks(rotation=45)\n",
    "plt.tight_layout()\n",
    "plt.savefig(f\"{CHARTS_DIR}/top10_cases.png\")\n",
    "plt.show()"
   ]
  },
  {
   "cell_type": "code",
   "execution_count": null,
   "id": "282edaea",
   "metadata": {},
   "outputs": [],
   "source": [
    "#  TIME TREND ANALYSIS FOR SELECTED COUNTRIES\n",
    "plt.figure(figsize=(12,6))\n",
    "for country in ['United States', 'India']:\n",
    "    subset = df[df['location'] == country]\n",
    "    plt.plot(subset['date'], subset['total_cases'], label=f\"{country} Cases\")\n",
    "    plt.plot(subset['date'], subset['total_deaths'], label=f\"{country} Deaths\")\n",
    "plt.title('COVID-19 Total Cases and Deaths Over Time')\n",
    "plt.xlabel('Date')\n",
    "plt.ylabel('Count')\n",
    "plt.legend()\n",
    "plt.xticks(rotation=45)\n",
    "plt.tight_layout()\n",
    "plt.savefig(f\"{CHARTS_DIR}/trend_US_India.png\")\n",
    "plt.show()"
   ]
  },
  {
   "cell_type": "code",
   "execution_count": null,
   "id": "98ca4634",
   "metadata": {},
   "outputs": [],
   "source": [
    "#  VACCINATION TRENDS\n",
    "selected_countries = ['United States', 'India', 'Brazil']\n",
    "plt.figure(figsize=(12,6))\n",
    "for country in selected_countries:\n",
    "    country_data = df[df['location'] == country]\n",
    "    plt.plot(country_data['date'], country_data['total_vaccinations'], label=country)\n",
    "plt.title('Cumulative COVID-19 Vaccinations Over Time')\n",
    "plt.xlabel('Date')\n",
    "plt.ylabel('Total Vaccinations')\n",
    "plt.legend()\n",
    "plt.xticks(rotation=45)\n",
    "plt.tight_layout()\n",
    "plt.savefig(f\"{CHARTS_DIR}/vaccination_trends.png\")\n",
    "plt.show()"
   ]
  },
  {
   "cell_type": "code",
   "execution_count": null,
   "id": "baaeb3e0",
   "metadata": {},
   "outputs": [],
   "source": [
    "# Analysis 3 Correlation Heatmap of Key COVID Metrics\n",
    "key_metrics = ['total_cases', 'total_deaths', 'new_cases', 'new_deaths', 'total_vaccinations']\n",
    "available_metrics = [col for col in key_metrics if col in df.columns]\n",
    "numeric_df = df[available_metrics]\n",
    "if not numeric_df.empty:\n",
    "    corr = numeric_df.corr()\n",
    "    plt.figure(figsize=(10, 8))\n",
    "    sns.heatmap(corr, annot=True, cmap=\"coolwarm\")\n",
    "    plt.title(\"Correlation Between Key COVID Metrics\")\n",
    "    plt.tight_layout()\n",
    "    plt.savefig(f\"{CHARTS_DIR}/correlation_heatmap.png\")\n",
    "    plt.show()\n"
   ]
  },
  {
   "cell_type": "code",
   "execution_count": null,
   "id": "b00e5548",
   "metadata": {},
   "outputs": [],
   "source": [
    "#  PIE CHART: VACCINATED VS UNVACCINATED (Approximation)\n",
    "total_population = 8_000_000_000  # Assume 8B globally\n",
    "vaccinated = df['total_vaccinations'].max()\n",
    "unvaccinated = total_population - vaccinated\n",
    "plt.figure(figsize=(8,8))\n",
    "plt.pie([vaccinated, unvaccinated],\n",
    "        labels=['Vaccinated', 'Unvaccinated'],\n",
    "        autopct='%1.1f%%',\n",
    "        colors=['green', 'red'],\n",
    "        startangle=90)\n",
    "plt.title('Global Vaccinated vs Unvaccinated Population')\n",
    "plt.tight_layout()\n",
    "plt.savefig(f\"{CHARTS_DIR}/vaccinated_pie.png\")\n",
    "plt.show()"
   ]
  },
  {
   "cell_type": "code",
   "execution_count": null,
   "id": "b1d5b180",
   "metadata": {},
   "outputs": [],
   "source": [
    "#  SUMMARY OF INSIGHTS\n",
    "print(\"\\n--- INSIGHTS ---\")\n",
    "print(\"• United States and India had the highest total cases.\")\n",
    "print(\"• Strong positive correlation between total cases and total deaths.\")\n",
    "print(\"• Vaccination numbers grew rapidly in major countries.\")\n",
    "print(\"• Pie chart shows vaccination gap at global scale.\")\n",
    "print(\"\\n All analyses completed successfully.\")\n"
   ]
  }
 ],
 "metadata": {
  "kernelspec": {
   "display_name": "Python 3",
   "language": "python",
   "name": "python3"
  },
  "language_info": {
   "codemirror_mode": {
    "name": "ipython",
    "version": 3
   },
   "file_extension": ".py",
   "mimetype": "text/x-python",
   "name": "python",
   "nbconvert_exporter": "python",
   "pygments_lexer": "ipython3",
   "version": "3.9.13"
  }
 },
 "nbformat": 4,
 "nbformat_minor": 5
}
